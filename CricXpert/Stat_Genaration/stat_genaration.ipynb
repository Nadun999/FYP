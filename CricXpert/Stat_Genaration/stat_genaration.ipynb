{
 "cells": [
  {
   "cell_type": "code",
   "execution_count": 12,
   "metadata": {},
   "outputs": [
    {
     "name": "stdout",
     "output_type": "stream",
     "text": [
      "Defaulting to user installation because normal site-packages is not writeable\n",
      "\u001b[31mERROR: Could not find a version that satisfies the requirement settings (from versions: none)\u001b[0m\n",
      "\u001b[31mERROR: No matching distribution found for settings\u001b[0m\n",
      "\u001b[33mWARNING: You are using pip version 21.2.4; however, version 24.2 is available.\n",
      "You should consider upgrading via the '/Library/Developer/CommandLineTools/usr/bin/python3 -m pip install --upgrade pip' command.\u001b[0m\n"
     ]
    }
   ],
   "source": [
    "!pip3 install settings"
   ]
  },
  {
   "cell_type": "code",
   "execution_count": 13,
   "metadata": {},
   "outputs": [
    {
     "ename": "ModuleNotFoundError",
     "evalue": "No module named 'settings'",
     "output_type": "error",
     "traceback": [
      "\u001b[0;31m---------------------------------------------------------------------------\u001b[0m",
      "\u001b[0;31mModuleNotFoundError\u001b[0m                       Traceback (most recent call last)",
      "Cell \u001b[0;32mIn[13], line 8\u001b[0m\n\u001b[1;32m      6\u001b[0m \u001b[38;5;28;01mfrom\u001b[39;00m \u001b[38;5;21;01mlangchain_openai\u001b[39;00m \u001b[38;5;28;01mimport\u001b[39;00m ChatOpenAI\n\u001b[1;32m      7\u001b[0m \u001b[38;5;28;01mfrom\u001b[39;00m \u001b[38;5;21;01mlangfuse\u001b[39;00m\u001b[38;5;21;01m.\u001b[39;00m\u001b[38;5;21;01mcallback\u001b[39;00m \u001b[38;5;28;01mimport\u001b[39;00m CallbackHandler\n\u001b[0;32m----> 8\u001b[0m \u001b[38;5;28;01mfrom\u001b[39;00m \u001b[38;5;21;01msettings\u001b[39;00m \u001b[38;5;28;01mimport\u001b[39;00m settings\n",
      "\u001b[0;31mModuleNotFoundError\u001b[0m: No module named 'settings'"
     ]
    }
   ],
   "source": [
    "from langchain.prompts import ChatPromptTemplate, HumanMessagePromptTemplate\n",
    "from langchain.output_parsers import PydanticOutputParser\n",
    "from textwrap import dedent\n",
    "from langchain.output_parsers import OutputFixingParser\n",
    "from langchain.schema import OutputParserException\n",
    "from langchain_openai import ChatOpenAI\n",
    "from langfuse.callback import CallbackHandler\n",
    "from settings import settings"
   ]
  },
  {
   "cell_type": "code",
   "execution_count": null,
   "metadata": {},
   "outputs": [],
   "source": [
    "langfuse_handler = CallbackHandler(\n",
    "    secret_key=settings.LANGFUSE_SECRET_KEY,\n",
    "    public_key=settings.LANGFUSE_PUBLIC_KEY,\n",
    "    host=settings.LANGFUSE_HOST, \n",
    ")\n",
    "\n",
    "def parse_response(output, parser, llm=ChatOpenAI(model=\"gpt-4o\", openai_api_key=settings.OPENAI_API_KEY)):\n",
    "    try:\n",
    "        parsed = parser.parse(output)\n",
    "    except OutputParserException:\n",
    "        try:\n",
    "            new_parser = OutputFixingParser.from_llm(parser=parser, llm=llm)\n",
    "            parsed = new_parser.parse(output.content)\n",
    "            print(\"Fixed parsing errors.\")\n",
    "        except Exception as e:\n",
    "            print(\"Failed to fix parsing errors.\")\n",
    "    return parsed\n",
    "\n",
    "def llm_invoke(llm, messages):\n",
    "    return llm.invoke(messages.to_messages(), {\"callbacks\": [langfuse_handler]})\n",
    "\n",
    "class ResponseModel(BaseModel):\n",
    "    soft_skills: List[str] = Field(\n",
    "        description=\"List of soft skills keywords found in the job description\"\n",
    "    )\n",
    "    \n",
    "    hard_skills: List[str] = Field(\n",
    "        description=\"List of hard skills keywords found in the job description\"\n",
    "    )\n",
    "    \n",
    "    other_skills: Optional[List[str]] = Field(\n",
    "        description=\"List of other keywords, which are not categorized as hard skills or soft skills, but are essential for the job\"\n",
    "    )\n",
    "\n",
    "def get_overall_keywords(text, llm):\n",
    "    parser = PydanticOutputParser(pydantic_object=ResponseModel)\n",
    "    format_instructions = parser.get_format_instructions()\n",
    "    prompt_template = dedent(\n",
    "        \"\"\"\n",
    "        You are an AI assistant specialized in .....\n",
    "\n",
    "        Format your response as follows:\n",
    "        {format_instructions}\n",
    "\n",
    "        If no keywords fit a particular category, return an empty list for that category. Your goal is to extract accurate and concise keywords that improve ATS matching.\n",
    "\n",
    "        Text:\n",
    "        {text}\"\"\"\n",
    "    )\n",
    "\n",
    "    prompt = ChatPromptTemplate(\n",
    "        messages=[HumanMessagePromptTemplate.from_template(prompt_template)],\n",
    "        input_variables=[\"job_description\", \"format_instructions\"],\n",
    "    )\n",
    "\n",
    "    _input = prompt.format_prompt(\n",
    "        text=text, format_instructions=format_instructions\n",
    "    )\n",
    "    # output = llm.invoke(_input.to_messages())\n",
    "    output = llm_invoke(llm, _input)\n",
    "\n",
    "    parsed = parse_response(output.content, parser)\n",
    "\n",
    "    return parsed"
   ]
  }
 ],
 "metadata": {
  "kernelspec": {
   "display_name": "Python 3",
   "language": "python",
   "name": "python3"
  },
  "language_info": {
   "codemirror_mode": {
    "name": "ipython",
    "version": 3
   },
   "file_extension": ".py",
   "mimetype": "text/x-python",
   "name": "python",
   "nbconvert_exporter": "python",
   "pygments_lexer": "ipython3",
   "version": "3.9.6"
  }
 },
 "nbformat": 4,
 "nbformat_minor": 2
}
